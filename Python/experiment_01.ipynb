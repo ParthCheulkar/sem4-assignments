{
 "cells": [
  {
   "cell_type": "markdown",
   "metadata": {},
   "source": [
    "# Experiment No. 1"
   ]
  },
  {
   "cell_type": "markdown",
   "metadata": {},
   "source": [
    "### Q 1. Write a python program to print following lines in specific format\n",
    "\n",
    "```\n",
    "Twinkle Twinkle Little Star,\n",
    "       \"How I wonder what you are!\"\n",
    "              Up above the world so high\n",
    "              Like a diamond in the sky.\n",
    "'Twinkle Twinkle' Little star\n",
    "        How I wonder what you are\n",
    "```\n",
    "Using only one print() function\n",
    "\n",
    "SOLUTION:"
   ]
  },
  {
   "cell_type": "code",
   "execution_count": 1,
   "metadata": {},
   "outputs": [
    {
     "name": "stdout",
     "output_type": "stream",
     "text": [
      "\n",
      "Twinkle Twinkle Little Star,\n",
      "       \"How I wonder what you are!\"\n",
      "              Up above the world so high\n",
      "              Like a diamond in the sky.\n",
      "'Twinkle Twinkle' Little star\n",
      "        How I wonder what you are\n",
      "\n"
     ]
    }
   ],
   "source": [
    "print('''\n",
    "Twinkle Twinkle Little Star,\n",
    "       \"How I wonder what you are!\"\n",
    "              Up above the world so high\n",
    "              Like a diamond in the sky.\n",
    "'Twinkle Twinkle' Little star\n",
    "        How I wonder what you are\n",
    "''')"
   ]
  },
  {
   "cell_type": "markdown",
   "metadata": {},
   "source": [
    "### Q 2. Program to show output formatting take two values and display them using single print() function\n",
    "- Str.format()\n",
    "- % operator"
   ]
  },
  {
   "cell_type": "code",
   "execution_count": 2,
   "metadata": {},
   "outputs": [
    {
     "name": "stdout",
     "output_type": "stream",
     "text": [
      "Enter a: 5\n",
      "Enter b: 9\n",
      "The first value is 5 and second one is 9\n"
     ]
    }
   ],
   "source": [
    "a = int(input(\"Enter a: \"))\n",
    "b = int(input(\"Enter b: \"))\n",
    "\n",
    "print(\"The first value is {}\".format(a), \"and second one is %d\" % b)"
   ]
  },
  {
   "cell_type": "markdown",
   "metadata": {},
   "source": [
    "### Q 3. Program to find whether input year is leap year or not using 'nested if'"
   ]
  },
  {
   "cell_type": "code",
   "execution_count": 3,
   "metadata": {},
   "outputs": [
    {
     "name": "stdout",
     "output_type": "stream",
     "text": [
      "Enter an year: 2024\n",
      "2024 is a Leap Year\n"
     ]
    }
   ],
   "source": [
    "year = int(input(\"Enter an year: \"))\n",
    "if(year % 4 == 0):\n",
    "    if(year % 100 or year % 400 == 0):\n",
    "        print(\"{} is a Leap Year\".format(year))\n",
    "    else:\n",
    "        print(\"{} is not a Leap Year\".format(year))\n",
    "else:\n",
    "    print(\"{} is not a Leap Year\".format(year))"
   ]
  },
  {
   "cell_type": "markdown",
   "metadata": {},
   "source": [
    "### Q 4. Program to print all armstrong numbers in the range 1 to 1000"
   ]
  },
  {
   "cell_type": "code",
   "execution_count": 4,
   "metadata": {},
   "outputs": [
    {
     "name": "stdout",
     "output_type": "stream",
     "text": [
      "1 is an Armstrong Number.\n",
      "2 is an Armstrong Number.\n",
      "3 is an Armstrong Number.\n",
      "4 is an Armstrong Number.\n",
      "5 is an Armstrong Number.\n",
      "6 is an Armstrong Number.\n",
      "7 is an Armstrong Number.\n",
      "8 is an Armstrong Number.\n",
      "9 is an Armstrong Number.\n",
      "153 is an Armstrong Number.\n",
      "370 is an Armstrong Number.\n",
      "371 is an Armstrong Number.\n",
      "407 is an Armstrong Number.\n"
     ]
    }
   ],
   "source": [
    "for num in range(1, 1001):\n",
    "    l = len(str(num))\n",
    "    total = 0\n",
    "    for digit in str(num):\n",
    "        total += int(digit) ** l\n",
    "    if(total == num):\n",
    "        print(f\"{num} is an Armstrong Number.\")"
   ]
  },
  {
   "cell_type": "markdown",
   "metadata": {},
   "source": [
    "### Q 5. Program to find fibonacci series of n terms"
   ]
  },
  {
   "cell_type": "code",
   "execution_count": 5,
   "metadata": {},
   "outputs": [
    {
     "name": "stdout",
     "output_type": "stream",
     "text": [
      "Enter the number of terms in the Fibonacci Series: 15\n",
      "0, 1, 1, 2, 3, 5, 8, 13, 21, 34, 55, 89, 144, 233, 377, "
     ]
    }
   ],
   "source": [
    "n = int(input(\"Enter the number of terms in the Fibonacci Series: \"))\n",
    "\n",
    "a, b = 0, 1\n",
    "for i in range(n):\n",
    "    print(a, end=\", \")\n",
    "    a, b = b, a + b"
   ]
  },
  {
   "cell_type": "markdown",
   "metadata": {},
   "source": [
    "### Q 6. Program to print pattern\n",
    "```\n",
    "A\n",
    "B B\n",
    "C C C\n",
    "D D D D\n",
    "E E E E E\n",
    "```"
   ]
  },
  {
   "cell_type": "code",
   "execution_count": 6,
   "metadata": {},
   "outputs": [
    {
     "name": "stdout",
     "output_type": "stream",
     "text": [
      "Enter a number between 1 and 27: 15\n",
      "A \n",
      "B B \n",
      "C C C \n",
      "D D D D \n",
      "E E E E E \n",
      "F F F F F F \n",
      "G G G G G G G \n",
      "H H H H H H H H \n",
      "I I I I I I I I I \n",
      "J J J J J J J J J J \n",
      "K K K K K K K K K K K \n",
      "L L L L L L L L L L L L \n",
      "M M M M M M M M M M M M M \n",
      "N N N N N N N N N N N N N N \n",
      "O O O O O O O O O O O O O O O \n"
     ]
    }
   ],
   "source": [
    "n = int(input(\"Enter a number between 1 and 26: \"))\n",
    "while(1 > n or n > 26):\n",
    "    n = int(input(\"Please enter a number between 1 and 26: \"))\n",
    "    \n",
    "char = 'A'\n",
    "for num in range(1, n + 1):\n",
    "    print(f\"{char} \" * num)\n",
    "    char = chr(ord(char) + 1)"
   ]
  },
  {
   "cell_type": "markdown",
   "metadata": {},
   "source": [
    "### Q 6. Program to print pattern\n",
    "```\n",
    "* * * * *\n",
    "  * * * *\n",
    "    * * * \n",
    "      * *\n",
    "        *\n",
    "```"
   ]
  },
  {
   "cell_type": "code",
   "execution_count": 7,
   "metadata": {},
   "outputs": [
    {
     "name": "stdout",
     "output_type": "stream",
     "text": [
      "Enter a number: 8\n",
      " * * * * * * * * \n",
      "   * * * * * * * \n",
      "     * * * * * * \n",
      "       * * * * * \n",
      "         * * * * \n",
      "           * * * \n",
      "             * * \n",
      "               * \n"
     ]
    }
   ],
   "source": [
    "n = int(input(\"Enter a number: \"))\n",
    "\n",
    "for num in range(n):\n",
    "    print(\"  \" * (num), \"* \" * (n - num))"
   ]
  },
  {
   "cell_type": "markdown",
   "metadata": {},
   "source": [
    "### Q 6. Program to print pattern\n",
    "```\n",
    "             1\n",
    "           1 2 1\n",
    "         1 2 3 2 1\n",
    "       1 2 3 4 3 2 1\n",
    "     1 2 3 4 5 4 3 2 1\n",
    "```"
   ]
  },
  {
   "cell_type": "code",
   "execution_count": 8,
   "metadata": {},
   "outputs": [
    {
     "name": "stdout",
     "output_type": "stream",
     "text": [
      "Enter a number: 10\n",
      "                  1 \n",
      "                1 2 1 \n",
      "              1 2 3 2 1 \n",
      "            1 2 3 4 3 2 1 \n",
      "          1 2 3 4 5 4 3 2 1 \n",
      "        1 2 3 4 5 6 5 4 3 2 1 \n",
      "      1 2 3 4 5 6 7 6 5 4 3 2 1 \n",
      "    1 2 3 4 5 6 7 8 7 6 5 4 3 2 1 \n",
      "  1 2 3 4 5 6 7 8 9 8 7 6 5 4 3 2 1 \n",
      "1 2 3 4 5 6 7 8 9 10 9 8 7 6 5 4 3 2 1 \n"
     ]
    }
   ],
   "source": [
    "n = int(input(\"Enter a number: \"))\n",
    "\n",
    "for num in range(1, n + 1):\n",
    "    print(\"  \" * (n - num), end=\"\")\n",
    "    for i in range(1, num + 1):\n",
    "        print(i, end=\" \")\n",
    "    for i in range(num - 1, 0, -1):\n",
    "        print(i, end=\" \")\n",
    "    print()"
   ]
  },
  {
   "cell_type": "markdown",
   "metadata": {},
   "source": [
    "### Q 6. Program to print pattern\n",
    "\n",
    "```\n",
    "        * \n",
    "       * * \n",
    "      * * * \n",
    "     * * * * \n",
    "    * * * * * \n",
    "```"
   ]
  },
  {
   "cell_type": "code",
   "execution_count": 1,
   "metadata": {
    "scrolled": true
   },
   "outputs": [
    {
     "name": "stdout",
     "output_type": "stream",
     "text": [
      "Enter a number: 9\n",
      "          \n",
      "         * \n",
      "        * * \n",
      "       * * * \n",
      "      * * * * \n",
      "     * * * * * \n",
      "    * * * * * * \n",
      "   * * * * * * * \n",
      "  * * * * * * * * \n",
      " * * * * * * * * * \n"
     ]
    }
   ],
   "source": [
    "n = int(input(\"Enter a number: \"))\n",
    "\n",
    "for num in range(n + 1):\n",
    "    print(\" \" * (n - num), \"* \" * (num))"
   ]
  }
 ],
 "metadata": {
  "kernelspec": {
   "display_name": "Python 3",
   "language": "python",
   "name": "python3"
  },
  "language_info": {
   "codemirror_mode": {
    "name": "ipython",
    "version": 3
   },
   "file_extension": ".py",
   "mimetype": "text/x-python",
   "name": "python",
   "nbconvert_exporter": "python",
   "pygments_lexer": "ipython3",
   "version": "3.7.6"
  }
 },
 "nbformat": 4,
 "nbformat_minor": 4
}

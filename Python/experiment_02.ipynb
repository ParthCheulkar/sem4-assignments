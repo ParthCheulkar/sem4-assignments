{
 "cells": [
  {
   "cell_type": "markdown",
   "metadata": {},
   "source": [
    "# Experiment No. 2"
   ]
  },
  {
   "cell_type": "markdown",
   "metadata": {},
   "source": [
    "## *Python Arrays*\n",
    "\n",
    "An array is a collection of items stored at contiguous memory locations. The idea is to store multiple items of the same type together. This makes it easier to calculate the position of each element by simply adding an offset to a base value, i.e., the memory location of the first element of the array (generally denoted by the name of the array).\n",
    "\n",
    "For simplicity, we can think of an array a fleet of stairs where on each step is placed a value (let’s say one of your friends). Here, you can identify the location of any of your friends by simply knowing the count of the step they are on. Array can be handled in Python by a module named array. They can be useful when we have to manipulate only a specific data type values. A user can treat lists as arrays. However, user cannot constraint the type of elements stored in a list. If you create arrays using the array module, all elements of the array must be of the same type.\n",
    "\n",
    "### Creating an Array\n",
    "\n",
    "Array in Python can be created by importing array module. `array(data_type, value_list)` is used to create an array with data type and value list specified in its arguments.\n",
    "\n",
    "```python\n",
    "# importing \"array\" for array creations \n",
    "import array as arr \n",
    "  \n",
    "# creating an array with integer type \n",
    "a = arr.array('i', [1, 2, 3]) \n",
    "  \n",
    "# creating an array with float type \n",
    "b = arr.array('d', [2.5, 3.2, 3.3])\n",
    "```\n",
    "\n",
    "### Accessing elements from the Array\n",
    "\n",
    "In order to access the array items refer to the index number. Use the index operator `[]` to access an item in a array. The index must be an integer.\n",
    "\n",
    "### Adding Elements to an Array\n",
    "\n",
    "Elements can be added to the Array by using built-in `insert()` function. Insert is used to insert one or more data elements into an array. Based on the requirement, a new element can be added at the beginning, end, or any given index of array. `append()` is also used to add the value mentioned in its arguments at the end of the array.\n",
    "\n",
    "```python\n",
    "# importing \"array\" for array creations \n",
    "import array as arr \n",
    "  \n",
    "# array with int type \n",
    "a = arr.array('i', [1, 2, 3]) \n",
    "# prints 1 2 3\n",
    "  \n",
    "# inserting array using insert() function \n",
    "a.insert(1, 4)   # inserts 4 at index 1;\n",
    "# prints 1 4 2 3\n",
    "\n",
    "```\n",
    "\n",
    "### Removing Elements from the Array\n",
    "Elements can be removed from the array by using built-in `remove()` function but an Error arises if element doesn’t exist in the set. Remove() method only removes one element at a time, to remove range of elements, iterator is used. pop() function can also be used to remove and return an element from the array, but by default it removes only the last element of the array, to remove element from a specific position of the array, index of the element is passed as an argument to the pop() method.\n",
    "\n",
    "**Note** – Remove method in List will only remove the first occurrence of the searched element.\n",
    "\n",
    "```python \n",
    "# importing \"array\" for array operations \n",
    "import array \n",
    "   \n",
    "# initializing array with array values \n",
    "# initializes array with signed integers \n",
    "arr = array.array('i', [1, 2, 3, 1, 5])  \n",
    "  \n",
    "print (\"\\r\") \n",
    "  \n",
    "# using pop() to remove element at 2nd position \n",
    "print (\"The popped element is : \", end =\"\") \n",
    "print (arr.pop(2)) \n",
    "  \n",
    "# using remove() to remove 1st occurrence of 1 \n",
    "arr.remove(1) \n",
    "```\n",
    "\n",
    "### Slicing of a Array\n",
    "\n",
    "In Python array, there are multiple ways to print the whole array with all the elements, but to print a specific range of elements from the array, we use Slice operation. Slice operation is performed on array with the use of colon`(:)`. To print elements from beginning to a range use `[:Index]`, to print elements from end use [:-Index], to print elements from specific Index till the end use `[Index:]`, to print elements within a range, use `[Start Index:End Index]` and to print whole List with the use of slicing operation, use `[:]`. Further, to print whole array in reverse order, use `[::-1]`.\n",
    "\n",
    "```python\n",
    "# importing array module \n",
    "import array as arr \n",
    "  \n",
    "# creating a list  \n",
    "l = [1, 2, 3, 4, 5, 6, 7, 8, 9, 10] \n",
    "  \n",
    "# Print elements of a range  using Slice operation \n",
    "Sliced_array = a[3:8] \n",
    "print(\"\\nSlicing elements in a range 3-8: \") \n",
    "print(Sliced_array) \n",
    "  \n",
    "# Print elements from a pre-defined point to end \n",
    "Sliced_array = a[5:] \n",
    "print(\"\\nElements sliced from 5th \"\n",
    "      \"element till the end: \") \n",
    "print(Sliced_array) \n",
    "  \n",
    "# Printing elements from beginning till end \n",
    "Sliced_array = a[:] \n",
    "print(\"\\nPrinting all elements using slice operation: \") \n",
    "print(Sliced_array)\n",
    "```\n",
    "\n",
    "### Searching element in a Array\n",
    "In order to search an element in the array we use a python in-built `index()` method. This function returns the index of the first occurrence of value mentioned in arguments.\n",
    "\n",
    "```python\n",
    "   \n",
    "# importing array module \n",
    "import array \n",
    "   \n",
    "# initializing array with array values \n",
    "# initializes array with signed integers \n",
    "arr = array.array('i', [1, 2, 3, 1, 2, 5])  \n",
    "  \n",
    "# using index() to print index of 1st occurrenece of 2 \n",
    "print (\"The index of 1st occurrence of 2 is : \", end =\"\") \n",
    "print (arr.index(2)) \n",
    "  \n",
    "# using index() to print index of 1st occurrenece of 1 \n",
    "print (\"The index of 1st occurrence of 1 is : \", end =\"\") \n",
    "print (arr.index(1)) \n",
    "```"
   ]
  },
  {
   "cell_type": "markdown",
   "metadata": {},
   "source": [
    "### Q1. Python program to\n",
    "\n",
    "1. Read an array and display\n",
    "\n",
    "2. Append a new item to the end of the array.\n",
    "\n",
    "3. To reverse the order of the items in the array (slice operator)\n",
    "\n",
    "4. Get the length in bytes of one array item\n",
    "\n",
    "5. To append items from another array\n",
    "\n",
    "6. Remove a specified item using the index from an array\n",
    "\n",
    "7. Insert a specified item at the specified position in the array\n",
    "\n",
    "8. Convert the array into a string\n"
   ]
  },
  {
   "cell_type": "markdown",
   "metadata": {},
   "source": [
    "#### 1. Read an array and display - Method 1"
   ]
  },
  {
   "cell_type": "code",
   "execution_count": 1,
   "metadata": {},
   "outputs": [
    {
     "name": "stdout",
     "output_type": "stream",
     "text": [
      "Enter number of elements: 5\n",
      "Enter element 1: 1\n",
      "Enter element 2: 2\n",
      "Enter element 3: 3\n",
      "Enter element 4: 4\n",
      "Enter element 5: 5\n",
      "The entered list is: 1 2 3 4 5 "
     ]
    }
   ],
   "source": [
    "# READ AN ARRAY AND DISPLAY\n",
    "\n",
    "import array as arr\n",
    "a = arr.array('i', [])\n",
    " \n",
    "n = int(input(\"Enter number of elements: \")) \n",
    "  \n",
    "# iterating till the range \n",
    "for i in range(n): \n",
    "    ele = int(input(f\"Enter element {i + 1}: \")) \n",
    "    a.append(ele) # adding the element \n",
    "    \n",
    "print(\"The entered list is:\", end=\" \")\n",
    "for i in range (n): \n",
    "    print(a[i], end =\" \")"
   ]
  },
  {
   "cell_type": "markdown",
   "metadata": {},
   "source": [
    "#### 1. Read an array and display - Method 2"
   ]
  },
  {
   "cell_type": "code",
   "execution_count": 2,
   "metadata": {},
   "outputs": [
    {
     "name": "stdout",
     "output_type": "stream",
     "text": [
      "Enter number of elements: 5\n",
      "Enter 5 numbers in a single line with spaces in between: 1 2 3 4 5\n",
      "1 2 3 4 5 "
     ]
    }
   ],
   "source": [
    "# READ AN ARRAY AND DISPLAY\n",
    "\n",
    "import array as arr\n",
    " \n",
    "n = int(input(\"Enter number of elements: \")) \n",
    "\n",
    "nums = map(int, input(f\"Enter {n} numbers in a single line with spaces in between: \").split())\n",
    "\n",
    "a = arr.array('i', nums)\n",
    "\n",
    "for i in range (n): \n",
    "    print(a[i], end =\" \")"
   ]
  },
  {
   "cell_type": "markdown",
   "metadata": {},
   "source": [
    "#### 2. Append a new item to the end of the array."
   ]
  },
  {
   "cell_type": "code",
   "execution_count": 3,
   "metadata": {},
   "outputs": [
    {
     "name": "stdout",
     "output_type": "stream",
     "text": [
      "Enter an item to be appended: 6\n",
      "1 2 3 4 5 6 "
     ]
    }
   ],
   "source": [
    "item = int(input(\"Enter an item to be appended: \"))\n",
    "a.append(item)\n",
    "# Final Array\n",
    "for it in a: \n",
    "    print(it, end =\" \")"
   ]
  },
  {
   "cell_type": "markdown",
   "metadata": {},
   "source": [
    "#### 3. To reverse the order of the items in the array (slice operator)"
   ]
  },
  {
   "cell_type": "code",
   "execution_count": 4,
   "metadata": {},
   "outputs": [
    {
     "name": "stdout",
     "output_type": "stream",
     "text": [
      "6 5 4 3 2 1 "
     ]
    }
   ],
   "source": [
    "# reversed Array\n",
    "for it in a[::-1]: \n",
    "    print(it, end =\" \")"
   ]
  },
  {
   "cell_type": "markdown",
   "metadata": {},
   "source": [
    "#### 4. Get the length in bytes of one array item"
   ]
  },
  {
   "cell_type": "code",
   "execution_count": 5,
   "metadata": {},
   "outputs": [
    {
     "name": "stdout",
     "output_type": "stream",
     "text": [
      "Length in bytes of one array item: 4\n"
     ]
    }
   ],
   "source": [
    "print(\"Length in bytes of one array item: \"+str(a.itemsize))"
   ]
  },
  {
   "cell_type": "markdown",
   "metadata": {},
   "source": [
    "#### 5. To append items from another array"
   ]
  },
  {
   "cell_type": "code",
   "execution_count": 6,
   "metadata": {},
   "outputs": [
    {
     "name": "stdout",
     "output_type": "stream",
     "text": [
      "array('i', [1, 2, 3, 4, 5, 6, 9])\n"
     ]
    }
   ],
   "source": [
    "import array as arr\n",
    "b = arr.array('i', [7, 8, 9])\n",
    "a.append(b[2])\n",
    "print(a)"
   ]
  },
  {
   "cell_type": "markdown",
   "metadata": {},
   "source": [
    "#### 6. Remove a specified item using the index from an array"
   ]
  },
  {
   "cell_type": "code",
   "execution_count": 7,
   "metadata": {},
   "outputs": [
    {
     "name": "stdout",
     "output_type": "stream",
     "text": [
      "array('i', [1, 2, 4, 5, 6, 9])\n"
     ]
    }
   ],
   "source": [
    "c = a\n",
    "del c[2]\n",
    "print(c)"
   ]
  },
  {
   "cell_type": "markdown",
   "metadata": {},
   "source": [
    "#### 7. Insert a specified item at the specified position in the array"
   ]
  },
  {
   "cell_type": "code",
   "execution_count": 8,
   "metadata": {},
   "outputs": [
    {
     "name": "stdout",
     "output_type": "stream",
     "text": [
      "Enter an item to be appended: 100\n",
      "Enter the position where 100 is to be appended: 2\n",
      "array('i', [1, 2, 100, 4, 5, 6, 9])\n"
     ]
    }
   ],
   "source": [
    "item = int(input(\"Enter an item to be appended: \"))\n",
    "pos = int(input(f\"Enter the position where {item} is to be appended: \"))\n",
    "a.insert(pos, item)\n",
    "print(a)"
   ]
  },
  {
   "cell_type": "markdown",
   "metadata": {},
   "source": [
    "#### 8. Convert the array into a string - Method 1"
   ]
  },
  {
   "cell_type": "code",
   "execution_count": 9,
   "metadata": {},
   "outputs": [
    {
     "name": "stdout",
     "output_type": "stream",
     "text": [
      "1 2 100 4 5 6 9\n"
     ]
    }
   ],
   "source": [
    "print(' '.join(str(i) for i in a))"
   ]
  },
  {
   "cell_type": "markdown",
   "metadata": {},
   "source": [
    "#### 8. Convert the array into a string - Method 2"
   ]
  },
  {
   "cell_type": "code",
   "execution_count": 10,
   "metadata": {},
   "outputs": [
    {
     "name": "stdout",
     "output_type": "stream",
     "text": [
      "1 2 100 4 5 6 9\n"
     ]
    }
   ],
   "source": [
    "print(' '.join(map(str, a)))"
   ]
  },
  {
   "cell_type": "markdown",
   "metadata": {},
   "source": [
    "## Q2. Python program to remove prime numbers from an array.\n",
    "`Sampleinput arr[]={3,4,6,9,13,14,16,17}`\n",
    "\n",
    "`Outputarr[]={4,6,9,14,16}`"
   ]
  },
  {
   "cell_type": "code",
   "execution_count": 11,
   "metadata": {},
   "outputs": [
    {
     "name": "stdout",
     "output_type": "stream",
     "text": [
      "Enter number of elements: 8\n",
      "Enter 8 numbers in a single line with spaces in between: 3 4 5 6 9 13 14 16 17\n",
      "Array after removing primes: array('i', [4, 6, 9, 14, 16])\n"
     ]
    }
   ],
   "source": [
    "import array as arr\n",
    " \n",
    "n = int(input(\"Enter number of elements: \")) \n",
    "\n",
    "nums = map(int, input(f\"Enter {n} numbers in a single line with spaces in between: \").split())\n",
    "\n",
    "a = arr.array('i', nums)\n",
    "\n",
    "print(\"Array after removing primes:\", end=\" \")\n",
    "\n",
    "b = arr.array('i', [])\n",
    "for s in a:\n",
    "    for i in range(2, s):\n",
    "        if(s % i==0):\n",
    "            break;\n",
    "        if(i==s-1):\n",
    "            b.append(s)\n",
    "for ss in b:\n",
    "    while ss in a:\n",
    "        a.remove(ss)\n",
    "\n",
    "print(a)"
   ]
  },
  {
   "cell_type": "markdown",
   "metadata": {},
   "source": [
    "# *Python String*\n",
    "\n",
    "In Python, Strings are arrays of bytes representing Unicode characters. However, Python does not have a character data type, a single character is simply a string with a length of 1. Square brackets can be used to access elements of the string.\n",
    "\n",
    "### Creating a String\n",
    "Strings in Python can be created using single quotes or double quotes or even triple quotes.\n",
    "\n",
    "```python\n",
    "# Creating a String  \n",
    "# with single Quotes \n",
    "String1 = 'Welcome to the Geeks World'\n",
    "  \n",
    "# Creating a String \n",
    "# with double Quotes \n",
    "String1 = \"I'm a Geek\"\n",
    "  \n",
    "# Creating a String \n",
    "# with triple Quotes \n",
    "String1 = '''I'm a Geek and I live in a world of \"Geeks\"'''\n",
    "  \n",
    "# Creating String with triple \n",
    "# Quotes allows multiple lines \n",
    "String1 = '''Geeks \n",
    "            For \n",
    "            Life'''\n",
    "```\n",
    "\n",
    "Accessing characters in Python\n",
    "In Python, individual characters of a String can be accessed by using the method of Indexing. Indexing allows negative address references to access characters from the back of the String, \n",
    "\n",
    "e.g. -1 refers to the last character, -2 refers to the second last character and so on.\n",
    "\n",
    "\n",
    "While accessing an index out of the range will cause an IndexError. Only Integers are allowed to be passed as an index, float or other types will cause a TypeError.\n",
    "\n",
    "### String Slicing\n",
    "To access a range of characters in the String, method of slicing is used. Slicing in a String is done by using a Slicing operator (colon).\n",
    "\n",
    "```python \n",
    "# Creating a String \n",
    "String1 = \"TEST STRING\"\n",
    "print(\"Initial String: \")  \n",
    "print(String1) \n",
    "  \n",
    "# Printing 3rd to 12th character \n",
    "print(String1[3:12]) \n",
    "  \n",
    "# Printing characters between  \n",
    "# 3rd and 2nd last character \n",
    "print(String1[3:-2]) \n",
    "```\n",
    "\n",
    "### Deleting/Updating from a String\n",
    "\n",
    "#### Strings are immutable\n",
    "\n",
    "In Python, Updation or deletion of characters from a String is not allowed. This will cause an error because item assignment or item deletion from a String is not supported. Although deletion of entire String is possible with the use of a built-in del keyword. This is because Strings are immutable, hence elements of a String cannot be changed once it has been assigned. Only new strings can be reassigned to the same name."
   ]
  },
  {
   "cell_type": "markdown",
   "metadata": {},
   "source": [
    "## Q3. Python program to change all occurrences  of a first character of a string to @ except for first occurrence. \n",
    "\n",
    "Sample String : 'apple a day'\n",
    "\n",
    "Expected Result : 'apple @ d@y'"
   ]
  },
  {
   "cell_type": "code",
   "execution_count": 12,
   "metadata": {},
   "outputs": [
    {
     "name": "stdout",
     "output_type": "stream",
     "text": [
      "an apple a day, keeps the doctor away\n",
      "an @pple @ d@y, keeps the doctor @w@y\n"
     ]
    }
   ],
   "source": [
    "inp = input()\n",
    "ans = \"\"\n",
    "cnt = 0\n",
    "for ch in inp:\n",
    "    if(ch == 'a'):\n",
    "        cnt += 1\n",
    "        if(cnt > 1):\n",
    "            ans += '@'\n",
    "        else:\n",
    "            ans += ch\n",
    "    else:\n",
    "        ans += ch\n",
    "print(ans)"
   ]
  },
  {
   "cell_type": "markdown",
   "metadata": {},
   "source": [
    "## Q4. Python Program to sort group of strings into alphabetical order"
   ]
  },
  {
   "cell_type": "code",
   "execution_count": 13,
   "metadata": {},
   "outputs": [
    {
     "name": "stdout",
     "output_type": "stream",
     "text": [
      "Enter a string: Python Program to sort group of strings into alphabetical order\n",
      "alphabetical\n",
      "group\n",
      "into\n",
      "of\n",
      "order\n",
      "program\n",
      "python\n",
      "sort\n",
      "strings\n",
      "to\n"
     ]
    }
   ],
   "source": [
    "my_str = input(\"Enter a string: \")  \n",
    "\n",
    "# breakdown the string into a list of words  \n",
    "words = [word.lower() for word in my_str.split()]\n",
    "\n",
    "# sort the list  \n",
    "words.sort()  \n",
    "# display the sorted words  \n",
    "for word in words:  \n",
    "    print(word)"
   ]
  },
  {
   "cell_type": "markdown",
   "metadata": {},
   "source": [
    "## Q4. Python Program to check whether entered string is palindrome or not"
   ]
  },
  {
   "cell_type": "code",
   "execution_count": 14,
   "metadata": {},
   "outputs": [
    {
     "name": "stdout",
     "output_type": "stream",
     "text": [
      "Enter a string: malayalam\n",
      "malayalam is palindrome.\n"
     ]
    }
   ],
   "source": [
    "my_str = input(\"Enter a string: \")  \n",
    "n = len(my_str)\n",
    "# breakdown the string into a list of words \n",
    "\n",
    "if my_str[::-1] == my_str:\n",
    "    print(my_str + \" is palindrome.\")\n",
    "else:\n",
    "    print(my_str + \" is not palindrome.\")"
   ]
  }
 ],
 "metadata": {
  "kernelspec": {
   "display_name": "Python 3",
   "language": "python",
   "name": "python3"
  },
  "language_info": {
   "codemirror_mode": {
    "name": "ipython",
    "version": 3
   },
   "file_extension": ".py",
   "mimetype": "text/x-python",
   "name": "python",
   "nbconvert_exporter": "python",
   "pygments_lexer": "ipython3",
   "version": "3.7.6"
  }
 },
 "nbformat": 4,
 "nbformat_minor": 4
}

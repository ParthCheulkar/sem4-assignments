{
 "cells": [
  {
   "cell_type": "markdown",
   "metadata": {},
   "source": [
    "# Experiment No. 6"
   ]
  },
  {
   "cell_type": "markdown",
   "metadata": {},
   "source": [
    "## *Exception Handling In Python*\n",
    "\n",
    "#### What is Exception?\n",
    "\n",
    "An exception is an event, which occurs during the execution of a program that disrupts the normal flow of the program's instructions. In general, when a Python script encounters a situation that it cannot cope with, it raises an exception. An exception is a Python object that represents an error.\n",
    "\n",
    "- When a Python script raises an exception, it must either handle the exception immediately otherwise it terminates and quits.\n",
    "\n",
    "#### Python Logical Errors (Exceptions)\n",
    "- Errors that occur at runtime (after passing the syntax test) are called exceptions or logical errors.\n",
    "\n",
    "- For instance, they occur when we try to open a file(for reading) that does not exist (FileNotFoundError), try to divide a number by zero (ZeroDivisionError), or try to import a module that does not exist (ImportError).\n",
    "\n",
    "- Whenever these types of runtime errors occur, Python creates an exception object. If not handled properly, it prints a traceback to that error along with some details about why that error occurred.\n",
    "\n",
    "#### Handling an exception\n",
    "\n",
    "If you have some suspicious code that may raise an exception, you can defend your program by placing the suspicious code in a try: block. After the try: block, include an except: statement, followed by a block of code which handles the problem as elegantly as possible.\n",
    "\n",
    "### Syntax\n",
    "Here is simple syntax of try....except...else blocks −\n",
    "\n",
    "```\n",
    "try:\n",
    "   You do your operations here;\n",
    "   ......................\n",
    "except ExceptionI:\n",
    "   If there is ExceptionI, then execute this block.\n",
    "except ExceptionII:\n",
    "   If there is ExceptionII, then execute this block.\n",
    "   ......................\n",
    "else:\n",
    "   If there is no exception then execute this block. \n",
    "   ```\n",
    "   \n",
    "Here are few important points about the above-mentioned syntax −\n",
    "\n",
    "- A single try statement can have multiple except statements. This is useful when the try block contains statements that may throw different types of exceptions.\n",
    "\n",
    "- You can also provide a generic except clause, which handles any exception.\n",
    "\n",
    "- After the except clause(s), you can include an else-clause. The code in the else-block executes if the code in the try: block does not raise an exception.\n",
    "\n",
    "- The else-block is a good place for code that does not need the try: block's protection.\n",
    "\n",
    "\n",
    "#### The except Clause with No Exceptions\n",
    "\n",
    "```\n",
    "try:\n",
    "   You do your operations here;\n",
    "   ......................\n",
    "except:\n",
    "   If there is any exception, then execute this block.\n",
    "   ......................\n",
    "else:\n",
    "   If there is no exception then execute this block. \n",
    "```\n",
    "\n",
    "This kind of a try-except statement catches all the exceptions that occur. Using this kind of try-except statement is not considered a good programming practice though, because it catches all exceptions but does not make the programmer identify the root cause of the problem that may occur.\n",
    "\n",
    "#### The except Clause with Multiple Exceptions\n",
    "\n",
    "You can also use the same except statement to handle multiple exceptions as follows −\n",
    "```\n",
    "try:\n",
    "   You do your operations here;\n",
    "   ......................\n",
    "except(Exception1[, Exception2[,...ExceptionN]]]):\n",
    "   If there is any exception from the given exception list, \n",
    "   then execute this block.\n",
    "   ......................\n",
    "else:\n",
    "   If there is no exception then execute this block. \n",
    "```\n",
    "\n",
    "#### The try-finally Clause\n",
    "You can use a finally: block along with a try: block. The finally block is a place to put any code that must execute, whether the try-block raised an exception or not. The syntax of the try-finally statement is this −\n",
    "\n",
    "```\n",
    "try:\n",
    "   You do your operations here;\n",
    "   ......................\n",
    "   Due to any exception, this may be skipped.\n",
    "finally:\n",
    "   This would always be executed.\n",
    "   ......................\n",
    "```\n",
    "\n",
    "You cannot use else clause as well along with a finally clause."
   ]
  },
  {
   "cell_type": "markdown",
   "metadata": {},
   "source": [
    "## *User-defined exceptions*\n",
    "\n",
    "#### Creating User-defined Exception \n",
    "\n",
    "Programmers may name their own exceptions by creating a new exception class. Exceptions need to be derived from the Exception class, either directly or indirectly. Although not mandatory, most of the exceptions are named as names that end in “Error” similar to naming of the standard exceptions in python. For example:\n",
    "\n",
    "```python\n",
    "# A python program to create user-defined exception\n",
    "  \n",
    "# class MyError is derived from super class Exception\n",
    "class MyError(Exception):\n",
    "  \n",
    "    # Constructor or Initializer\n",
    "    def __init__(self, value):\n",
    "        self.value = value\n",
    "  \n",
    "    # __str__ is to print() the value\n",
    "    def __str__(self):\n",
    "        return(repr(self.value))\n",
    "  \n",
    "try:\n",
    "    raise(MyError(3*2))\n",
    "  \n",
    "# Value of Exception is stored in error\n",
    "except MyError as error:\n",
    "    print('A New Exception occured: ',error.value)\n",
    "```\n",
    "OUTPUT:\n",
    "```\n",
    "('A New Exception occured: ', 6)\n",
    "```\n",
    "\n",
    "\n",
    "### Deriving Error from Super Class Exception\n",
    "\n",
    "Super class Exceptions are created when a module needs to handle several distinct errors. One of the common way of doing this is to create a base class for exceptions defined by that module. Further, various subclasses are defined to create specific exception classes for different error conditions.\n",
    "\n",
    "\n",
    "#### class Error is derived from super class Exception\n",
    "\n",
    "```python\n",
    "class Error(Exception):\n",
    "  \n",
    "    # Error is derived class for Exception, but\n",
    "    # Base class for exceptions in this module\n",
    "    pass\n",
    "  \n",
    "class TransitionError(Error):\n",
    "  \n",
    "    # Raised when an operation attempts a state \n",
    "    # transition that's not allowed.\n",
    "    def __init__(self, prev, nex, msg):\n",
    "        self.prev = prev\n",
    "        self.next = nex\n",
    "  \n",
    "        # Error message thrown is saved in msg\n",
    "        self.msg = msg\n",
    "try:\n",
    "    raise(TransitionError(2,3*2,\"Not Allowed\"))\n",
    "  \n",
    "# Value of Exception is stored in error\n",
    "except TransitionError as error:\n",
    "    print('Exception occured: ',error.msg)\n",
    "```\n",
    "\n",
    "OUTPUT\n",
    "```\n",
    "('Exception occured: ', 'Not Allowed')\n",
    "```"
   ]
  },
  {
   "cell_type": "markdown",
   "metadata": {},
   "source": [
    "## Question 1\n",
    "\n",
    "Python program \n",
    "- To  create  class Student  with  rno,  name,  marksas  instance  variable  and constructorto initialize these instance variables.\n",
    "- Instantiate ninstances of classes and save details in list. \n",
    "- Create an user defined exception class Fail to raise an exception if marks is less than 40.\n",
    "- Display details of students and also raise exceptions for marks less than 40."
   ]
  },
  {
   "cell_type": "code",
   "execution_count": 1,
   "metadata": {},
   "outputs": [],
   "source": [
    "class Student:\n",
    "    \n",
    "    # Class varible\n",
    "    student_details = []\n",
    "    \n",
    "    # Constructor\n",
    "    def __init__(self, rno, name, marks):\n",
    "        self.rno = rno\n",
    "        self.name = name \n",
    "        self.marks = marks\n",
    "    \n",
    "    # Class method\n",
    "    @classmethod\n",
    "    def add_to_list(cls, self):\n",
    "        cls.student_details.append(tuple((self.rno, self.name, self.marks)))\n",
    "                \n",
    "        \n",
    "class Fail(Exception):\n",
    "    '''an exception if marks is less than 40. '''\n",
    "    pass"
   ]
  },
  {
   "cell_type": "code",
   "execution_count": 2,
   "metadata": {},
   "outputs": [],
   "source": [
    "def display_details(student_details_list):\n",
    "    '''function to print student details in a tabular format.'''\n",
    "    \n",
    "    print(\"Roll Number \\t Name \\t\\t Marks \")\n",
    "    print(\"---------------------------------------------------------------------\")\n",
    "    \n",
    "    for item in student_details_list:\n",
    "        student_marks = item[2]\n",
    "        \n",
    "        print(\"  \" + item[0] + \" \\t\\t  \" + item[1] + \" \\t\\t\", end = \" \")\n",
    "        try: \n",
    "            if(student_marks < 40):\n",
    "                raise Fail\n",
    "            else:\n",
    "                print(student_marks)\n",
    "        except Fail:\n",
    "            print(\"Marks less than 40, hence failed.\")   "
   ]
  },
  {
   "cell_type": "code",
   "execution_count": 3,
   "metadata": {},
   "outputs": [
    {
     "name": "stdout",
     "output_type": "stream",
     "text": [
      "ENTER NUMBER OF STUDENTS: 3\n",
      "Enter student 1 roll no: 123\n",
      "Enter student 1 name: ABC\n",
      "Enter student 1 marks: 85\n",
      "Enter student 2 roll no: 456\n",
      "Enter student 2 name: DEF\n",
      "Enter student 2 marks: 35\n",
      "Enter student 3 roll no: 789\n",
      "Enter student 3 name: XYZ\n",
      "Enter student 3 marks: 95\n"
     ]
    },
    {
     "data": {
      "text/plain": [
       "[('123', 'ABC', 85), ('456', 'DEF', 35), ('789', 'XYZ', 95)]"
      ]
     },
     "execution_count": 3,
     "metadata": {},
     "output_type": "execute_result"
    }
   ],
   "source": [
    "n = int(input('ENTER NUMBER OF STUDENTS: '))\n",
    "\n",
    "for i in range(n):\n",
    "    student_rollno = input(f'Enter student {i + 1} roll no: ')\n",
    "    student_name = input(f'Enter student {i + 1} name: ')\n",
    "    student_marks = int(input(f'Enter student {i + 1} marks: '))\n",
    "    \n",
    "    # Initialising the Constructor\n",
    "    student_instance = Student(student_rollno, student_name, student_marks)\n",
    "    \n",
    "    # Calling the class method using ClassName.ClassMethod\n",
    "    Student.add_to_list(student_instance)\n",
    "    \n",
    "# Updated Details\n",
    "Student.student_details"
   ]
  },
  {
   "cell_type": "code",
   "execution_count": 4,
   "metadata": {},
   "outputs": [
    {
     "name": "stdout",
     "output_type": "stream",
     "text": [
      "Roll Number \t Name \t\t Marks \n",
      "---------------------------------------------------------------------\n",
      "  123 \t\t  ABC \t\t 85\n",
      "  456 \t\t  DEF \t\t Marks less than 40, hence failed.\n",
      "  789 \t\t  XYZ \t\t 95\n"
     ]
    }
   ],
   "source": [
    "display_details(Student.student_details)"
   ]
  },
  {
   "cell_type": "code",
   "execution_count": null,
   "metadata": {},
   "outputs": [],
   "source": []
  },
  {
   "cell_type": "markdown",
   "metadata": {},
   "source": [
    "## *OS module in Python*\n",
    "\n",
    "- The OS module in Python provides functions for interacting with the operating system. OS comes under Python’s standard utility modules. This module provides a portable way of using operating system-dependent functionality. The *os* and *os.path* modules include many functions to interact with the file system.\n",
    "\n",
    "#### Handling the Current Working Directory\n",
    "Consider Current Working Directory(CWD) as a folder, where the Python is operating. Whenever the files are called only by their name, Python assumes that it starts in the CWD which means that name-only reference will be successful only if the file is in the Python’s CWD.\n",
    "\n",
    "- Note: The folder where the Python script is running is known as the Current Directory. This is not the path where the Python script is located.\n",
    "\n",
    "```python\n",
    "# importing os module \n",
    "import os \n",
    "      \n",
    "# Get the current working \n",
    "# directory (CWD) \n",
    "cwd = os.getcwd() \n",
    "      \n",
    "# Print the current working \n",
    "# directory (CWD) \n",
    "print(\"Current working directory:\", cwd) \n",
    "```\n",
    "\n",
    "#### Changing the Current working directory\n",
    "\n",
    "To change the current working directory(CWD) os.chdir() method is used. This method changes the CWD to a specified path. It only takes a single argument as a new directory path.\n",
    "\n",
    "Note: The current working directory is the folder in which the Python script is operating.\n",
    "\n",
    "Example:\n",
    "```python\n",
    "# Python program to change the \n",
    "# current working directory \n",
    "       \n",
    "import os \n",
    "    \n",
    "# Function to Get the current  \n",
    "# working directory \n",
    "def current_path(): \n",
    "    print(\"Current working directory before\") \n",
    "    print(os.getcwd()) \n",
    "    print() \n",
    "    \n",
    "# Driver's code \n",
    "# Printing CWD before \n",
    "current_path() \n",
    "    \n",
    "# Changing the CWD \n",
    "os.chdir('../') \n",
    "    \n",
    "# Printing CWD after \n",
    "current_path() \n",
    "```"
   ]
  },
  {
   "cell_type": "markdown",
   "metadata": {},
   "source": [
    "## Question 2\n",
    "\n",
    "Python program to\n",
    "- create a file \n",
    "- count no. of lines , words and characters in a file.\n",
    "- write content of a file in a new file and read that new file."
   ]
  },
  {
   "cell_type": "markdown",
   "metadata": {},
   "source": [
    "### Creating a fucntion to tackle a problem\n",
    "- We can use `os.listdir(path)` and print it but it prints a list in a horizontal format\n",
    "- This function prints the Directories in a tabular format."
   ]
  },
  {
   "cell_type": "code",
   "execution_count": 5,
   "metadata": {},
   "outputs": [],
   "source": [
    "def print_directories(directory_list):\n",
    "    '''function to print directories in a specific tabular format'''\n",
    "    i = 0\n",
    "    print(\"\\nSr. No. \\t Directory\")\n",
    "    print(\"-\" * 40)\n",
    "    for directory in directory_list:\n",
    "        print(i, \"\\t\\t\", directory)\n",
    "        i += 1"
   ]
  },
  {
   "cell_type": "markdown",
   "metadata": {},
   "source": [
    "### Creating a file, writing a file and reading a file."
   ]
  },
  {
   "cell_type": "code",
   "execution_count": 6,
   "metadata": {},
   "outputs": [
    {
     "name": "stdout",
     "output_type": "stream",
     "text": [
      "The current working directory is: C:\\Users\\Tushar Nankani\\Desktop\\Git\\My Repositories\\College\\sem4-assignments\\Python\n",
      "\n",
      "List of directories and files before creation:\n",
      "\n",
      "Sr. No. \t Directory\n",
      "----------------------------------------\n",
      "0 \t\t .ipynb_checkpoints\n",
      "1 \t\t .jovianrc\n",
      "2 \t\t experiment_01.ipynb\n",
      "3 \t\t experiment_02.ipynb\n",
      "4 \t\t experiment_03.ipynb\n",
      "5 \t\t experiment_04.ipynb\n",
      "6 \t\t experiment_05.ipynb\n",
      "7 \t\t experiment_06.ipynb\n",
      "8 \t\t Q6.py\n",
      "9 \t\t __pycache__\n",
      "\n",
      "List of directories and files before creation:\n",
      "\n",
      "Sr. No. \t Directory\n",
      "----------------------------------------\n",
      "0 \t\t .ipynb_checkpoints\n",
      "1 \t\t .jovianrc\n",
      "2 \t\t experiment_01.ipynb\n",
      "3 \t\t experiment_02.ipynb\n",
      "4 \t\t experiment_03.ipynb\n",
      "5 \t\t experiment_04.ipynb\n",
      "6 \t\t experiment_05.ipynb\n",
      "7 \t\t experiment_06.ipynb\n",
      "8 \t\t my_file.txt\n",
      "9 \t\t Q6.py\n",
      "10 \t\t __pycache__\n"
     ]
    }
   ],
   "source": [
    "import os\n",
    "\n",
    "# To get the path where the current notebook is situated\n",
    "path = os.getcwd()\n",
    "print(f\"The current working directory is: {path}\")\n",
    "\n",
    "# Directories before creation of a file\n",
    "dir_list = os.listdir(path)\n",
    "\n",
    "print(\"\\nList of directories and files before creation:\")\n",
    "print_directories(dir_list)\n",
    "\n",
    "# Creation of file\n",
    "with open(\"my_file.txt\", 'w') as f:\n",
    "    f.write(\"This is my_file.txt\\n\")\n",
    "    for i in range(10):\n",
    "        f.write(f\"This is line {i + 1}. \\n\")\n",
    "\n",
    "# Directories after creation of a file\n",
    "dir_list = os.listdir(path)\n",
    "\n",
    "print(\"\\nList of directories and files before creation:\")\n",
    "print_directories(dir_list)"
   ]
  },
  {
   "cell_type": "markdown",
   "metadata": {},
   "source": [
    "### Counting lines, words, and characters in a file."
   ]
  },
  {
   "cell_type": "code",
   "execution_count": 7,
   "metadata": {},
   "outputs": [],
   "source": [
    "def print_details_of_file(file_content):\n",
    "    '''function to find details of the file'''\n",
    "    \n",
    "    line_count, word_count, char_count = 0, 0, 0\n",
    "    \n",
    "    # To find no of lines\n",
    "    line_list = file_content.split(\"\\n\")\n",
    "    line_count = len(line_list)\n",
    "\n",
    "    # To find no of words\n",
    "    for line in line_list:\n",
    "        word_list = line.split()\n",
    "        word_count += len(word_list)\n",
    "\n",
    "    # To find number of chars\n",
    "    char_count = len(file_content)\n",
    "    \n",
    "    print(\"The file content:\\n\" + (\"-\" * 30) + f\"\\n{file_content}\" + (\"-\" * 30))\n",
    "    print(f\"Line Count :\\t {line_count}\")\n",
    "    print(f\"Word Count :\\t {word_count}\")\n",
    "    print(f\"Char Count :\\t {char_count}\")"
   ]
  },
  {
   "cell_type": "code",
   "execution_count": 8,
   "metadata": {},
   "outputs": [
    {
     "name": "stdout",
     "output_type": "stream",
     "text": [
      "The file content:\n",
      "------------------------------\n",
      "This is my_file.txt\n",
      "This is line 1. \n",
      "This is line 2. \n",
      "This is line 3. \n",
      "This is line 4. \n",
      "This is line 5. \n",
      "This is line 6. \n",
      "This is line 7. \n",
      "This is line 8. \n",
      "This is line 9. \n",
      "This is line 10. \n",
      "------------------------------\n",
      "Line Count :\t 12\n",
      "Word Count :\t 43\n",
      "Char Count :\t 191\n"
     ]
    }
   ],
   "source": [
    "with open(\"my_file.txt\", 'r') as f:\n",
    "    file_content = f.read()\n",
    "    print_details_of_file(file_content)"
   ]
  },
  {
   "cell_type": "code",
   "execution_count": null,
   "metadata": {},
   "outputs": [],
   "source": []
  },
  {
   "cell_type": "markdown",
   "metadata": {},
   "source": [
    "## Question 3\n",
    "\n",
    "Python program to\n",
    "- create a class Customer with id, name, mobile number as instance variable and constructor to initialize these instance variables.\n",
    "- Instantiate n instances of classes \n",
    "- Save details of all customer in a file and read back from that file."
   ]
  },
  {
   "cell_type": "code",
   "execution_count": 9,
   "metadata": {},
   "outputs": [],
   "source": [
    "class Customer:\n",
    "    \n",
    "    def __init__(self, ID, name, mobile_num):\n",
    "        self.ID = ID\n",
    "        self.name = name\n",
    "        self.mobile_num = mobile_num\n",
    "        \n",
    "        \n",
    "    def add_content_to_file(self):\n",
    "        \n",
    "        # Creation of file and append\n",
    "        with open(\"customer_details.txt\", 'a') as f:\n",
    "            f.write(f\"{self.ID}, {self.name}, {self.mobile_num}\\n\")\n",
    "    \n",
    "    @classmethod\n",
    "    def print_content_of_file(cls):\n",
    "        \n",
    "        with open(\"customer_details.txt\", 'r') as f:\n",
    "            file_content = f.read()\n",
    "            print(\"\\nThe file content:\\n\" + (\"-\" * 30) + f\"\\n{file_content}\" + (\"-\" * 30))"
   ]
  },
  {
   "cell_type": "code",
   "execution_count": 10,
   "metadata": {},
   "outputs": [
    {
     "name": "stdout",
     "output_type": "stream",
     "text": [
      "ENTER NUMBER OF CUSTOMERS: 3\n",
      "\n",
      "Enter customer name: ABC\n",
      "Enter customer number: 12345\n",
      "\n",
      "Enter customer name: DEF\n",
      "Enter customer number: 89461\n",
      "\n",
      "Enter customer name: XYZ\n",
      "Enter customer number: 98416\n",
      "\n",
      "The file content:\n",
      "------------------------------\n",
      "1, ABC, 12345\n",
      "2, DEF, 89461\n",
      "3, XYZ, 98416\n",
      "------------------------------\n"
     ]
    }
   ],
   "source": [
    "n = int(input('ENTER NUMBER OF CUSTOMERS: '))\n",
    "\n",
    "for i in range(n) :\n",
    "    customer_name = input('\\nEnter customer name: ')\n",
    "    customer_number = input('Enter customer number: ')\n",
    "    \n",
    "    # Creating n Customer Instances\n",
    "    customer_instance = Customer(i + 1, customer_name, customer_number)\n",
    "    \n",
    "    # Appending content to file\n",
    "    customer_instance.add_content_to_file()\n",
    "\n",
    "# Print final content of the file\n",
    "Customer.print_content_of_file()"
   ]
  },
  {
   "cell_type": "code",
   "execution_count": null,
   "metadata": {},
   "outputs": [],
   "source": []
  },
  {
   "cell_type": "markdown",
   "metadata": {},
   "source": [
    "## Question 4\n",
    "\n",
    "Python program to\n",
    "- create directories using `mkdir()` and `makedirs()`\n",
    "- remove directories using `rmdir()` and `removedirs()`\n",
    "- change current directory\n",
    "\n",
    "--- \n",
    "\n",
    "Will be using the function create in question 2\n",
    "\n",
    "```python\n",
    "def print_directories(directory_list):\n",
    "    '''function to print directories in a specific format'''\n",
    "    i = 0\n",
    "    print(\"Sr. No. \\t Directory\")\n",
    "    print(\"-\" * 40)\n",
    "    for directory in directory_list:\n",
    "        print(i, \"\\t\\t\", directory)\n",
    "        i += 1\n",
    "```"
   ]
  },
  {
   "cell_type": "code",
   "execution_count": 11,
   "metadata": {},
   "outputs": [],
   "source": [
    "import os\n",
    "\n",
    "def print_directory_path_and_content(path):\n",
    "    '''this function will print path and its content'''\n",
    "    \n",
    "    print(f\"The current working directory is: {path}\")\n",
    "\n",
    "    # Directories present in a specific path\n",
    "    print_directories(os.listdir(path))"
   ]
  },
  {
   "cell_type": "markdown",
   "metadata": {},
   "source": [
    "## Make Directories"
   ]
  },
  {
   "cell_type": "code",
   "execution_count": 12,
   "metadata": {},
   "outputs": [
    {
     "name": "stdout",
     "output_type": "stream",
     "text": [
      "The current working directory is: C:\\Users\\Tushar Nankani\\Desktop\\Git\\My Repositories\\College\\sem4-assignments\\Python\n",
      "\n",
      "Sr. No. \t Directory\n",
      "----------------------------------------\n",
      "0 \t\t .ipynb_checkpoints\n",
      "1 \t\t .jovianrc\n",
      "2 \t\t customer_details.txt\n",
      "3 \t\t experiment_01.ipynb\n",
      "4 \t\t experiment_02.ipynb\n",
      "5 \t\t experiment_03.ipynb\n",
      "6 \t\t experiment_04.ipynb\n",
      "7 \t\t experiment_05.ipynb\n",
      "8 \t\t experiment_06.ipynb\n",
      "9 \t\t my_file.txt\n",
      "10 \t\t Q6.py\n",
      "11 \t\t __pycache__\n"
     ]
    }
   ],
   "source": [
    "# Print Current\n",
    "path = os.getcwd()\n",
    "print_directory_path_and_content(path)"
   ]
  },
  {
   "cell_type": "code",
   "execution_count": 13,
   "metadata": {},
   "outputs": [
    {
     "name": "stdout",
     "output_type": "stream",
     "text": [
      "\n",
      "Enter Directory Name to be created: abc\n",
      "The current working directory is: C:\\Users\\Tushar Nankani\\Desktop\\Git\\My Repositories\\College\\sem4-assignments\\Python\n",
      "\n",
      "Sr. No. \t Directory\n",
      "----------------------------------------\n",
      "0 \t\t .ipynb_checkpoints\n",
      "1 \t\t .jovianrc\n",
      "2 \t\t abc\n",
      "3 \t\t customer_details.txt\n",
      "4 \t\t experiment_01.ipynb\n",
      "5 \t\t experiment_02.ipynb\n",
      "6 \t\t experiment_03.ipynb\n",
      "7 \t\t experiment_04.ipynb\n",
      "8 \t\t experiment_05.ipynb\n",
      "9 \t\t experiment_06.ipynb\n",
      "10 \t\t my_file.txt\n",
      "11 \t\t Q6.py\n",
      "12 \t\t __pycache__\n"
     ]
    }
   ],
   "source": [
    "# Make Directory using mkdir\n",
    "directory_name = input(\"\\nEnter Directory Name to be created: \")\n",
    "os.mkdir(os.path.join(path, directory_name))\n",
    "\n",
    "# Print after creating Directories\n",
    "print_directory_path_and_content(os.getcwd())"
   ]
  },
  {
   "cell_type": "markdown",
   "metadata": {},
   "source": [
    "## Change Directories"
   ]
  },
  {
   "cell_type": "code",
   "execution_count": 14,
   "metadata": {},
   "outputs": [
    {
     "name": "stdout",
     "output_type": "stream",
     "text": [
      "The current working directory is: C:\\Users\\Tushar Nankani\\Desktop\\Git\\My Repositories\\College\\sem4-assignments\\Python\\abc\n",
      "\n",
      "Sr. No. \t Directory\n",
      "----------------------------------------\n"
     ]
    }
   ],
   "source": [
    "# Change Directory to the created one\n",
    "os.chdir(directory_name)\n",
    "\n",
    "# Print after changing Directories\n",
    "print_directory_path_and_content(os.getcwd())"
   ]
  },
  {
   "cell_type": "markdown",
   "metadata": {},
   "source": [
    "#### If any of the intermediate level directory is missing `os.makedirs()` method will create them \n",
    "      \n",
    "#### `os.makedirs()` method can be used to create a directory tree "
   ]
  },
  {
   "cell_type": "code",
   "execution_count": 15,
   "metadata": {},
   "outputs": [
    {
     "name": "stdout",
     "output_type": "stream",
     "text": [
      "The current working directory is: C:\\Users\\Tushar Nankani\\Desktop\\Git\\My Repositories\\College\\sem4-assignments\\Python\\abc\n",
      "\n",
      "Sr. No. \t Directory\n",
      "----------------------------------------\n",
      "0 \t\t a\n"
     ]
    }
   ],
   "source": [
    "path = os.getcwd()\n",
    "\n",
    "# Make Directory using makedirs\n",
    "path += r\"\\a\\b\\c\"\n",
    "\n",
    "# mode \n",
    "mode = 0o666\n",
    "\n",
    "os.makedirs(path, mode)\n",
    "\n",
    "# Print after creating Directories\n",
    "print_directory_path_and_content(os.getcwd())"
   ]
  },
  {
   "cell_type": "code",
   "execution_count": 16,
   "metadata": {},
   "outputs": [
    {
     "name": "stdout",
     "output_type": "stream",
     "text": [
      "The current working directory is: C:\\Users\\Tushar Nankani\\Desktop\\Git\\My Repositories\\College\\sem4-assignments\\Python\\abc\\a\\b\\c\n",
      "\n",
      "Sr. No. \t Directory\n",
      "----------------------------------------\n"
     ]
    }
   ],
   "source": [
    "# Change Directory to the created one\n",
    "os.chdir(r\"a\\b\\c\")\n",
    "\n",
    "# Print after changing Directories\n",
    "print_directory_path_and_content(os.getcwd())"
   ]
  },
  {
   "cell_type": "markdown",
   "metadata": {},
   "source": [
    "## Remove Directory"
   ]
  },
  {
   "cell_type": "code",
   "execution_count": 17,
   "metadata": {},
   "outputs": [
    {
     "name": "stdout",
     "output_type": "stream",
     "text": [
      "The current working directory is: C:\\Users\\Tushar Nankani\\Desktop\\Git\\My Repositories\\College\\sem4-assignments\\Python\\abc\n",
      "\n",
      "Sr. No. \t Directory\n",
      "----------------------------------------\n",
      "0 \t\t a\n"
     ]
    }
   ],
   "source": [
    "os.chdir(r\"../../..\")\n",
    "\n",
    "# Print after changing Directories\n",
    "print_directory_path_and_content(os.getcwd())"
   ]
  },
  {
   "cell_type": "code",
   "execution_count": 18,
   "metadata": {},
   "outputs": [
    {
     "name": "stdout",
     "output_type": "stream",
     "text": [
      "The current working directory is: C:\\Users\\Tushar Nankani\\Desktop\\Git\\My Repositories\\College\\sem4-assignments\\Python\\abc\n",
      "\n",
      "Sr. No. \t Directory\n",
      "----------------------------------------\n",
      "0 \t\t a\n"
     ]
    }
   ],
   "source": [
    "path = os.getcwd()\n",
    "\n",
    "path += r\"\\a\\b\\c\"\n",
    "\n",
    "# Remove directory \n",
    "os.rmdir(path)\n",
    "\n",
    "# Print after changing Directories\n",
    "print_directory_path_and_content(os.getcwd())"
   ]
  },
  {
   "cell_type": "markdown",
   "metadata": {},
   "source": [
    "#### Now, 'c' directory is removed. "
   ]
  },
  {
   "cell_type": "code",
   "execution_count": null,
   "metadata": {},
   "outputs": [],
   "source": []
  }
 ],
 "metadata": {
  "kernelspec": {
   "display_name": "Python 3",
   "language": "python",
   "name": "python3"
  },
  "language_info": {
   "codemirror_mode": {
    "name": "ipython",
    "version": 3
   },
   "file_extension": ".py",
   "mimetype": "text/x-python",
   "name": "python",
   "nbconvert_exporter": "python",
   "pygments_lexer": "ipython3",
   "version": "3.7.6"
  }
 },
 "nbformat": 4,
 "nbformat_minor": 4
}
